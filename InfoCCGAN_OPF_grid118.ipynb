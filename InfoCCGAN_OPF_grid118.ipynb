{
  "cells": [
    {
      "cell_type": "code",
      "execution_count": null,
      "metadata": {
        "id": "f1zWcmmqR61y"
      },
      "outputs": [],
      "source": [
        "import numpy as np\n",
        "import tensorflow as tf\n",
        "from tensorflow import keras\n",
        "from tensorflow.keras import layers\n",
        "from tensorflow.keras import backend as K\n",
        "from matplotlib import pyplot as plt\n",
        "import sys\n",
        "import pandas as pd\n",
        "from sklearn.neighbors import NearestNeighbors\n",
        "from numpy.random import randn\n",
        "from scipy.io import loadmat\n",
        "from tensorflow.keras.layers import LeakyReLU\n",
        "from tensorflow.keras.layers import BatchNormalization\n",
        "from tensorflow.keras.models import load_model,Sequential,Model\n",
        "import math\n",
        "import time\n",
        "from tensorflow.keras.layers import Conv1D, MaxPooling1D,Lambda,Concatenate,Dropout\n",
        "import pdb; \n",
        "import scipy\n",
        "from keras.constraints import Constraint\n",
        "from scipy.stats import truncnorm\n",
        "from scipy.stats import weibull_min"
      ]
    },
    {
      "cell_type": "code",
      "execution_count": null,
      "metadata": {
        "id": "ZD1C5EnMl-tU"
      },
      "outputs": [],
      "source": [
        "#Data Preprocessing Functions\n",
        "def get_gencost(number_of_buses,mat_gen,mat_gencost):\n",
        "  '''Function to format the generators' cost'''\n",
        "  gen_ids = mat_gen[:,0]-1\n",
        "  c1=np.zeros(number_of_buses)\n",
        "  c2=np.zeros(number_of_buses)\n",
        "  j=0\n",
        "  for i in range(0,number_of_buses):\n",
        "    if i in gen_ids:\n",
        "      c1[i] = mat_gencost[j,5]\n",
        "      c2[i] = mat_gencost[j,4]\n",
        "      j=j+1\n",
        "  tf_c1 = tf.convert_to_tensor(c1,dtype='float32')\n",
        "  tf_c2 = tf.convert_to_tensor(c2,dtype='float32')\n",
        "  return tf_c1,tf_c2\n",
        "\n",
        "def get_pq_bound(number_of_buses, mat_gen):\n",
        "  '''This is the function to get and format the upper and\n",
        "     lower bound of active&reactive power at each buse'''\n",
        "  number_of_gens = mat_gen.shape[0]\n",
        "  p_upper = np.zeros(number_of_buses)\n",
        "  q_upper = np.zeros(number_of_buses)\n",
        "  q_lower = np.zeros(number_of_buses)\n",
        "  j=0\n",
        "  for i in range(0,number_of_buses):\n",
        "    if i in (mat_gen[:,0]-1):\n",
        "      #pdb.set_trace()\n",
        "      p_upper[i]=mat_gen[j,8]\n",
        "      q_upper[i]=mat_gen[j,3]\n",
        "      q_lower[i]=mat_gen[j,4]\n",
        "      j=j+1\n",
        "  tf_p_upper = tf.convert_to_tensor(p_upper/baseMVA,dtype='float32')\n",
        "  tf_q_upper = tf.convert_to_tensor(q_upper/baseMVA,dtype='float32')\n",
        "  tf_q_lower = tf.convert_to_tensor(q_lower/baseMVA,dtype='float32')\n",
        "  return tf_p_upper,tf_q_upper,tf_q_lower\n",
        "\n",
        "\n",
        "def get_vm_va_bound(mat_load):\n",
        "  '''\n",
        "  #This is the function to get and format the upper and lower bound \n",
        "  #of voltage magnitude&angle at each buse\n",
        "  '''\n",
        "  vm_lower = mat_load['aa'][:,-1]\n",
        "  vm_upper = mat_load['aa'][:,-2]\n",
        "  #vm_lower[0]=1\n",
        "  #vm_upper[0]=1\n",
        "  va_lower = np.ones(118)*(-180)\n",
        "  va_upper = np.ones(118)*(180)\n",
        "  #va_lower[0]=0\n",
        "  #va_upper[0]=0\n",
        "  tf_vm_upper = tf.convert_to_tensor(vm_upper,dtype='float32')\n",
        "  tf_vm_lower = tf.convert_to_tensor(vm_lower,dtype='float32')\n",
        "  tf_va_upper = tf.convert_to_tensor(va_upper,dtype='float32')\n",
        "  tf_va_lower = tf.convert_to_tensor(va_lower,dtype='float32')\n",
        "  return tf_vm_upper,tf_vm_lower,tf_va_upper,tf_va_lower\n",
        "\n",
        "def define_generator(latent_dim):\n",
        "  '''#Defining model G'''\n",
        "  code = keras.Input(shape=(1,1))\n",
        "  random_noise = keras.Input(shape=(1,latent_dim))\n",
        "  demand = keras.Input(shape=(1,118*2))\n",
        "  concat_layer= Concatenate(axis=-1)([code,random_noise, demand])\n",
        "  hidden = Conv1D(256, (1), activation=None,padding='same')(concat_layer)\n",
        "  hidden = tf.keras.layers.LeakyReLU(alpha=0.1)(hidden)\n",
        "  #hidden = Dropout(0.1)(hidden)\n",
        "  hidden = Conv1D(128, (1), activation=None,padding='same')(hidden)\n",
        "  hidden = tf.keras.layers.LeakyReLU(alpha=0.1)(hidden)\n",
        "  hidden = Conv1D(64, (1), activation=None,padding='same')(hidden)\n",
        "  hidden = tf.keras.layers.LeakyReLU(alpha=0.1)(hidden)\n",
        "  hidden = Conv1D(32, (1), activation=None,padding='same')(hidden)\n",
        "  hidden = tf.keras.layers.LeakyReLU(alpha=0.1)(hidden)\n",
        "  #hidden = Dropout(0.1)(hidden)\n",
        "  hidden = layers.Flatten()(hidden)\n",
        "  g_active = layers.Dense(118,dtype='float32',activation='sigmoid')(hidden)\n",
        "  g_active = tf.math.multiply(g_active,tf_p_upper)\n",
        "  g_reactive = layers.Dense(118,dtype='float32',activation='sigmoid')(hidden)\n",
        "  g_reactive = tf.math.multiply(g_reactive,tf_q_upper-tf_q_lower)\\\n",
        "                                                    +tf_q_lower\n",
        "  bus_vm = layers.Dense(118,dtype='float32',activation='sigmoid')(hidden)\n",
        "  bus_vm = tf.math.multiply(bus_vm,tf_vm_upper-tf_vm_lower)+tf_vm_lower\n",
        "  bus_va = layers.Dense(118,dtype='float32',activation='sigmoid')(hidden)\n",
        "  bus_va = tf.math.multiply(bus_va,tf_va_upper-tf_va_lower)+tf_va_lower\n",
        "  g_model = keras.Model(inputs=[code,random_noise,demand], outputs=[g_active,g_reactive,bus_vm,bus_va])\n",
        "  return g_model\n",
        "\n",
        "def define_qnetwork():\n",
        "  '''#Defining model Q'''\n",
        "  g_active = keras.Input(shape=(1,118))\n",
        "  hidden = Conv1D(4, (1), activation=None,padding='same')(g_active)\n",
        "  hidden = tf.keras.layers.LeakyReLU(alpha=0.1)(hidden)\n",
        "  hidden = layers.Flatten()(hidden)\n",
        "  out_layer = layers.Dense(1,dtype='float32',activation='tanh')(hidden)\n",
        "  q_model = Model(g_active, out_layer)\n",
        "  return q_model\n",
        "\n",
        "def define_gp_critic():\n",
        "  '''#Defining model D'''\n",
        "  demand = keras.Input(shape=(1,118*2))\n",
        "  g_active = keras.Input(shape=(1,118))\n",
        "  g_reactive = keras.Input(shape=(1,118))\n",
        "  bus_vm = keras.Input(shape=(1,118))\n",
        "  bus_va = keras.Input(shape=(1,118))\n",
        "  concat_layer= Concatenate(axis=-1)([demand,g_active,g_reactive,bus_vm,bus_va])\n",
        "  hidden = Conv1D(512, (3), activation=None,padding='same')(concat_layer)\n",
        "  hidden = tf.keras.layers.LeakyReLU(alpha=0.1)(hidden)\n",
        "  hidden = layers.MaxPooling1D(pool_size=(3),padding='same')(hidden)\n",
        "  hidden = Conv1D(256, (1), activation=None,padding='same')(hidden)\n",
        "  hidden = tf.keras.layers.LeakyReLU(alpha=0.1)(hidden)\n",
        "  hidden = Conv1D(128, (1), activation=None,padding='same')(hidden)\n",
        "  hidden = tf.keras.layers.LeakyReLU(alpha=0.1)(hidden)\n",
        "  hidden1 = Conv1D(64, (1), activation=None,padding='same')(hidden)\n",
        "  hidden1 = tf.keras.layers.LeakyReLU(alpha=0.1)(hidden1)\n",
        "  hidden1 = Conv1D(32, (1), activation=None,padding='same')(hidden1)\n",
        "  hidden1 = tf.keras.layers.LeakyReLU(alpha=0.1)(hidden1)\n",
        "  hidden1 = Conv1D(16, (1), activation=None,padding='same')(hidden1)\n",
        "  hidden1 = tf.keras.layers.LeakyReLU(alpha=0.1)(hidden1)\n",
        "  hidden1 = Conv1D(8, (1), activation=None,padding='same')(hidden1)\n",
        "  hidden1 = tf.keras.layers.LeakyReLU(alpha=0.1)(hidden1)\n",
        "  hidden1 = layers.Flatten()(hidden1)\n",
        "  hidden2 = Conv1D(64, (1), activation=None,padding='same')(hidden)\n",
        "  hidden2 = tf.keras.layers.LeakyReLU(alpha=0.1)(hidden2)\n",
        "  hidden2 = Conv1D(32, (1), activation=None,padding='same')(hidden2)\n",
        "  hidden2 = tf.keras.layers.LeakyReLU(alpha=0.1)(hidden2)\n",
        "  hidden2 = Conv1D(16, (1), activation=None,padding='same')(hidden2)\n",
        "  hidden2 = tf.keras.layers.LeakyReLU(alpha=0.1)(hidden2)\n",
        "  hidden2 = Conv1D(8, (1), activation=None,padding='same')(hidden2)\n",
        "  hidden2 = tf.keras.layers.LeakyReLU(alpha=0.1)(hidden2)\n",
        "  hidden2 = layers.Flatten()(hidden2)\n",
        "  out_layer = layers.Dense(1,dtype='float32',activation=None)(hidden1)\n",
        "  r_out_layer = layers.Dense(1,dtype='float32',activation=None)(hidden2)\n",
        "  r1_out_layer = layers.Dense(1,dtype='float32',activation=None)(hidden2)\n",
        "  #define model\n",
        "  d_model = Model([demand,g_active,g_reactive,bus_vm,bus_va], [out_layer,r_out_layer,r1_out_layer])\n",
        "  return d_model\n",
        "\n",
        "\n",
        "def define_gan(g_model, d_model):\n",
        "  '''# define the combined generator and discriminator model, for updating the generator'''\n",
        "  # make weights in the discriminator not trainable\n",
        "  d_model.trainable = False\n",
        "  [g_active,g_reactive,bus_vm,bus_va] = generator.output\n",
        "  [gen_code, gen_noise, gen_label] = generator.input\n",
        "  gan_output = d_model([tf.reshape(gen_label,[-1,1,118*2]),tf.reshape(g_active,[-1,1,118]),\\\n",
        "                        tf.reshape(g_reactive,[-1,1,118]),tf.reshape(bus_vm,[-1,1,118]),\\\n",
        "                        tf.reshape(bus_va,[-1,1,118])])\n",
        "  # define gan model as taking noise and label and outputting a classification\n",
        "  model = Model([gen_code, gen_noise, gen_label], gan_output)\n",
        "  return model\n",
        "\n",
        "def define_ae(g_model,q_model):\n",
        "  '''# define the combined generator and Q model, for updating the generator'''\n",
        "  [g_active,g_reactive,bus_vm,bus_va] = g_model.output\n",
        "  [gen_code, gen_noise, gen_label] = g_model.input\n",
        "  q_output = q_model(tf.reshape(g_active,[-1,1,118]))\n",
        "  ae_model = Model([gen_code, gen_noise, gen_label], q_output)\n",
        "  return ae_model\n",
        "\n",
        "def rdm_load_pq_20per(case_pload,case_qload,sample_number):\n",
        "  '''Sampling Demand in +- 20 percent'''\n",
        "  number_of_bus = case_pload.shape[0]\n",
        "  p_demand = np.zeros([sample_number,number_of_bus])\n",
        "  q_demand = np.zeros([sample_number,number_of_bus])\n",
        "  for i in range(0,number_of_bus):\n",
        "    pi = case_pload[i]\n",
        "    qi = case_qload[i]\n",
        "    if case_pload[i]!=0:\n",
        "      p_mw = np.random.uniform(pi*0.8,pi*1.2,sample_number)\n",
        "      q_mvar = np.random.uniform(qi*0.8,qi*1.2,sample_number)\n",
        "      p_demand[:,i] = p_mw\n",
        "      q_demand[:,i] = q_mvar\n",
        "  return p_demand,q_demand\n",
        "\n",
        "def generate_latent_points(latent_dim, n_samples):\n",
        "  '''generate_latent_points'''\n",
        "  # generate points in the latent space\n",
        "  code_input = np.random.uniform(-1,1,n_samples).reshape([n_samples,1])\n",
        "  x_input = randn(latent_dim * n_samples)\n",
        "  z_input = x_input.reshape(n_samples, latent_dim)\n",
        "  # generate labels\n",
        "  p_demand,q_demand = rdm_load_pq_20per(case118_pload,case118_qload,n_samples)\n",
        "  labels = np.concatenate([p_demand,q_demand],axis=1)\n",
        "  return [code_input,z_input, labels]\n",
        "\n",
        "# select real samples\n",
        "def generate_real_samples(n_samples):\n",
        "  '''generate_real_points'''\n",
        "  # choose random instances\n",
        "  ix = np.random.randint(0, real_conditions.shape[0], n_samples)\n",
        "  # select images and labels\n",
        "  batch_condition,batch_vm,batch_va,batch_p,batch_q = real_conditions[ix], \\\n",
        "    real_vm[ix], real_va[ix], real_p[ix], real_q[ix]\n",
        "  # generate class labels\n",
        "  y = -np.ones((n_samples, 1))\n",
        "  return batch_condition,batch_vm,batch_va,batch_p,batch_q, y\n",
        "\n",
        "# use the generator to generate n fake examples, with class labels\n",
        "def generate_fake_samples(generator, latent_dim, n_samples):\n",
        "  '''generate fake samples'''\n",
        "\t# generate points in latent space\n",
        "\tc_input, z_input, labels_input = generate_latent_points(latent_dim, n_samples)\n",
        "\t# predict outputs\n",
        "\timages = generator.predict([c_input, z_input, labels_input])\n",
        "\t# create class labels\n",
        "\ty = np.ones((n_samples, 1))\n",
        "\treturn c_input, labels_input,images, y\n",
        "\n",
        "def feasibility_checking(p_demand,q_demand, active_p,reactive_q,vm,va):\n",
        "  '''Check the physical power balance violations'''\n",
        "  generated_size = p_demand.shape[0]\n",
        "  #Step1: calculate power withdraw on each bus\n",
        "  P_out = tf.convert_to_tensor(p_demand-active_p,dtype='float32')\n",
        "  Q_out = tf.convert_to_tensor(q_demand-reactive_q,dtype='float32')\n",
        "  #pdb.set_trace()\n",
        "  #get voltage on each bus\n",
        "  v_r = tf.math.multiply(vm,tf.cos(tf.math.multiply(va,tf.constant(math.pi/180,dtype='float32'))))\n",
        "  v_i = tf.math.multiply(vm,tf.sin(tf.math.multiply(va,tf.constant(math.pi/180,dtype='float32'))))\n",
        "  V = tf.reshape(tf.complex(v_r,v_i),[generated_size,118])\n",
        "\n",
        "  #calculate current\n",
        "  Y_bus_tf = tf.convert_to_tensor(Y_bus)\n",
        "  I = tf.matmul(V,Y_bus_tf)\n",
        "\n",
        "  #calculate power injection on each bus\n",
        "  S_in = tf.math.multiply(V,tf.math.conj(I))\n",
        "  P_in = tf.math.real(S_in)\n",
        "  Q_in = tf.math.imag(S_in)\n",
        "\n",
        "  #evaluate the balance\n",
        "  p_balance = tf.reduce_mean(P_in+P_out,axis=0)\n",
        "  q_balance = tf.reduce_mean(Q_in+Q_out,axis=0)\n",
        "  return p_balance,q_balance\n",
        "\n",
        "\n",
        "def generate_test_samples(generator, latent_dim, test_samples):\n",
        "  '''# use the generator to generate n fake examples, with class labels'''\n",
        "  # generate points in latent space\n",
        "  n_samples = opf_real_conditions_validation.shape[0]\n",
        "  z_input, labels_input = generate_latent_points(latent_dim, n_samples)\n",
        "  # predict outputs\n",
        "  images = generator.predict([z_input, opf_real_conditions_validation])\n",
        "  # create class labels\n",
        "  y = np.ones((n_samples, 1))\n",
        "  return opf_real_conditions_validation,images, y\n",
        "\n",
        "def optimality_checking(p_opt,q_opt,p_fake,q_fake):\n",
        "  '''Checking the financial optimality'''\n",
        "  p_mse = K.mean(K.square(p_opt-p_fake))\n",
        "  q_mse = K.mean(K.square(q_opt-q_fake))\n",
        "  return p_mse,q_mse"
      ]
    },
    {
      "cell_type": "code",
      "execution_count": null,
      "metadata": {
        "id": "QPmX0AtmSDw4"
      },
      "outputs": [],
      "source": [
        "'''\n",
        "#This is the block to load data from matlab, and cvs dataset\n",
        "#Then process them ready for the neural network training\n",
        "'''\n",
        "#Load grid data from matlab\n",
        "mat_y = loadmat('Y_bus118.mat')\n",
        "mat_gen = loadmat('IEEE118_gen.mat')['gen118']\n",
        "mat_load = loadmat('IEEE118_load.mat')\n",
        "mat_gencost = loadmat('case118_gencost.mat')['gencost']\n",
        "\n",
        "#Load dataset\n",
        "condition_part1 = loadmat('grid118_fc_conditions_by_opf.mat')['conditions_list']\n",
        "solution_part1 = loadmat('grid118_fc_points_by_opf.mat')['datapoints_list']\n",
        "line_constraints = loadmat('grid118_line_constraints.mat')['line_constraint']\n",
        "condition_part2 = loadmat('grid118_fc_conditions1_by_opf.mat')['conditions_list']\n",
        "solution_part2 = loadmat('grid118_fc_points1_by_opf.mat')['datapoints_list']\n",
        "\n",
        "#Data preprocessing\n",
        "Y_bus = mat_y['Y_bus118'].toarray().astype('complex64')\n",
        "baseMVA = 100\n",
        "case118_pload = mat_load['aa'][:,2]/baseMVA\n",
        "case118_qload = mat_load['aa'][:,3]/baseMVA\n",
        "real_conditions = np.concatenate([condition_part1,condition_part2],axis=0)/baseMVA\n",
        "real_points = np.concatenate([solution_part1,solution_part2],axis=0)\n",
        "real_vm = real_points[:,0:118]\n",
        "real_va = real_points[:,118:236]\n",
        "matpower_p = real_points[:,236:290]\n",
        "matpower_q = real_points[:,290:]\n",
        "real_p = np.zeros(real_vm.shape)\n",
        "real_q = np.zeros(real_vm.shape)\n",
        "gen_ids = mat_gen[:,0]-1\n",
        "j=0\n",
        "for i in range(0,118):\n",
        "  if i in gen_ids:\n",
        "    real_p[:,i]=matpower_p[:,j]\n",
        "    real_q[:,i]=matpower_q[:,j]\n",
        "    j=j+1\n",
        "real_p=real_p/baseMVA\n",
        "real_q = real_q/baseMVA\n",
        "\n",
        "tf_p_upper,tf_q_upper,tf_q_lower = get_pq_bound(118, mat_gen)\n",
        "tf_vm_upper,tf_vm_lower,tf_va_upper,tf_va_lower = get_vm_va_bound(mat_load)\n",
        "tf_c1,tf_c2 = get_gencost(118,mat_gen,mat_gencost)\n",
        "\n",
        "gen_id=mat_gen[:,0]-1\n",
        "non_gen_ids = np.zeros([64])\n",
        "j=0\n",
        "for i in range(0,118):\n",
        "  if i not in gen_id:\n",
        "    non_gen_ids[j]=i\n",
        "    j=j+1\n",
        "wind_der_ids = non_gen_ids[:-40]\n",
        "solar_der_ids = non_gen_ids[-40:]\n",
        "\n",
        "line_constraints.shape\n",
        "from_buses = line_constraints[:,1]-1\n",
        "to_buses = line_constraints[:,2]-1\n",
        "s_max = line_constraints[:,4]\n",
        "\n",
        "constraint_matrix = np.zeros([118,118])\n",
        "i=0\n",
        "for fb in from_buses:\n",
        "  constraint_matrix[int(fb),int(to_buses[i])]=s_max[i]\n",
        "  i=i+1"
      ]
    },
    {
      "cell_type": "code",
      "execution_count": null,
      "metadata": {
        "id": "GZulFcA0pIgF"
      },
      "outputs": [],
      "source": [
        "tf_c1,tf_c2=get_gencost(118,mat_gen,mat_gencost)\n",
        "cost1=tf.math.multiply(real_p*baseMVA, tf_c1)\n",
        "cost2=tf.math.multiply(K.square(tf.cast(real_p*baseMVA,tf.float32)), tf_c2)\n",
        "suma = tf.reduce_sum(cost1+cost2,axis=1)\n",
        "print(min(suma))\n",
        "plt.hist(suma.numpy(),bins=100)\n",
        "plt.title(' Distribution of Cost Values')\n",
        "plt.xlabel('Cost Values (dollars)')\n",
        "plt.ylabel('Number of Points')"
      ]
    },
    {
      "cell_type": "code",
      "execution_count": null,
      "metadata": {
        "id": "IdWiW9p4ut6v"
      },
      "outputs": [],
      "source": [
        "iterations = 10000\n",
        "n_critic=10\n",
        "n_q = 1\n",
        "best_pb=0.2\n",
        "best_qb=0.2\n",
        "number_of_buses=118\n",
        "lbd=10\n",
        "mu=10\n",
        "delta=100\n",
        "nu=1000\n",
        "xi=10\n",
        "latent_dim = 200\n",
        "batch_size = 512\n",
        "half_batch = batch_size//2\n",
        "discriminator = define_gp_critic()\n",
        "generator =define_generator(latent_dim)\n",
        "qnetwork = define_qnetwork()\n",
        "gan_model = define_gan(generator, discriminator)\n",
        "ae_model = define_ae(generator,qnetwork)\n",
        "loss_d1_list = []\n",
        "loss_d2_list = []\n",
        "loss_g_list = []                                                                              \n",
        "real_acc_list = []\n",
        "fake_acc_list = []\n",
        "dy_dx_list=[]\n",
        "pbalance_list=[]\n",
        "qbalance_list=[]\n",
        "opt_perr_list=[]\n",
        "opt_qerr_list=[]\n",
        "ae_loss_list=[]\n",
        "gp_list=[]\n",
        "physics_loss_list=[]\n",
        "regression_list = []\n",
        "branch_loss_list = []\n",
        "r2_loss_list = []\n",
        "\n",
        "for i in range(iterations):\n",
        "  with tf.GradientTape(persistent=True) as tape:\n",
        "    discriminator.trainable=True\n",
        "    #pdb.set_trace()\n",
        "    #Initializing optimizers:\n",
        "    d_optimizer = tf.keras.optimizers.Adam(learning_rate=0.00005)\n",
        "    g_optimizer = tf.keras.optimizers.Adam(learning_rate=0.00005)\n",
        "    q_optimizer = tf.keras.optimizers.Adam(learning_rate=0.00005)\n",
        "    r_optimizer = tf.keras.optimizers.Adam(learning_rate=0.00005)\n",
        "    \n",
        "    '''\n",
        "      Block 1 starts: Training the discriminator for $n_critic times\n",
        "    '''\n",
        "    for _j in range(n_critic):\n",
        "      #Prepare real and fake data\n",
        "      real_batch_demand, real_batch_vm,real_batch_va,real_batch_p,real_batch_q, \\\n",
        "                  real_batch_y = generate_real_samples(half_batch)\n",
        "      [fake_latent_code, fake_latent_noise, _] = \\\n",
        "                  generate_latent_points(latent_dim, half_batch)\n",
        "      [fake_batch_p,fake_batch_q,fake_batch_vm,fake_batch_va] = \\\n",
        "                  generator([tf.reshape(fake_latent_code,[-1,1,1]),\\\n",
        "                  tf.reshape(fake_latent_noise,[-1,1,latent_dim]),\\\n",
        "                  tf.reshape(real_batch_demand,[-1,1,118*2])])\n",
        "      fake_batch_y = np.ones((half_batch, 1))\n",
        "      alpha = K.random_uniform(\n",
        "          shape=[half_batch,1], \n",
        "          minval=0.,\n",
        "          maxval=1.\n",
        "      )\n",
        "      diff_batch_vm = real_batch_vm - fake_batch_vm\n",
        "      diff_batch_va = real_batch_va - fake_batch_va\n",
        "      diff_batch_p = real_batch_p - fake_batch_p\n",
        "      diff_batch_q = real_batch_q - fake_batch_q\n",
        "\n",
        "      inter_batch_vm = real_batch_vm + (alpha*diff_batch_vm)\n",
        "      inter_batch_va = real_batch_va + (alpha*diff_batch_va)\n",
        "      inter_batch_p = real_batch_p + (alpha*diff_batch_p)\n",
        "      inter_batch_q = real_batch_q + (alpha*diff_batch_q)\n",
        "\n",
        "      '''\n",
        "      Calculate the Cost function for discriminator\n",
        "      '''\n",
        "      #Prepare the gradient penalty\n",
        "      inter_d_output,_,_ = discriminator([tf.reshape(real_batch_demand,[-1,1,118*2]),\\\n",
        "                                tf.reshape(inter_batch_p,[-1,1,118]),\\\n",
        "                                tf.reshape(inter_batch_q,[-1,1,118]),\\\n",
        "                                tf.reshape(inter_batch_vm,[-1,1,118]),\\\n",
        "                                tf.reshape(inter_batch_va,[-1,1,118])])\n",
        "      inter_gradients_p = tape.gradient(inter_d_output, [inter_batch_p,inter_batch_q,inter_batch_vm,inter_batch_va])\n",
        "      rdc_sum = tf.math.reduce_sum(tf.math.reduce_sum(tf.square(inter_gradients_p),axis=0),axis=1)\n",
        "      slopes = K.sqrt(rdc_sum)\n",
        "      gradient_penalty = tf.reduce_mean(tf.square((slopes-1.)))\n",
        "      \n",
        "      #calculate the regular WGAN loss\n",
        "      real_d_output,_,_ = discriminator([tf.reshape(real_batch_demand,[-1,1,118*2]),\\\n",
        "                                            tf.reshape(real_batch_p,[-1,1,118]),\\\n",
        "                                            tf.reshape(real_batch_q,[-1,1,118]),\\\n",
        "                                            tf.reshape(real_batch_vm,[-1,1,118]),\\\n",
        "                                            tf.reshape(real_batch_va,[-1,1,118])])\n",
        "      fake_d_output,_,_ = discriminator([tf.reshape(real_batch_demand,[-1,1,118*2]),\\\n",
        "                                            tf.reshape(fake_batch_p,[-1,1,118]),\\\n",
        "                                            tf.reshape(fake_batch_q,[-1,1,118]),\\\n",
        "                                            tf.reshape(fake_batch_vm,[-1,1,118]),\\\n",
        "                                            tf.reshape(fake_batch_va,[-1,1,118])])\n",
        "      d1_loss = K.mean(real_d_output*real_batch_y)\n",
        "      loss_d1_list.append(d1_loss.numpy())\n",
        "      d2_loss = K.mean(fake_d_output*fake_batch_y)\n",
        "      loss_d2_list.append(d2_loss.numpy())\n",
        "      gp_list.append(gradient_penalty.numpy())\n",
        "      d_loss = d1_loss+d2_loss+delta*gradient_penalty\n",
        "      \n",
        "      #-----------Model R-------------\n",
        "      #Step0: Select some real data\n",
        "      if _j%n_critic==0:\n",
        "        real_data_num_for_r = 3\n",
        "        downnsample_batch_demand, downnsample_real_batch_vm,downnsample_real_batch_va,\\\n",
        "        downnsample_real_batch_p,downnsample_real_batch_q,downnsample_real_batch_y \\\n",
        "        = generate_real_samples(real_data_num_for_r)\n",
        "        r_batch_demand = tf.concat([real_batch_demand,downnsample_batch_demand],axis=0)\n",
        "        r_batch_vm = tf.concat([fake_batch_vm,downnsample_real_batch_vm],axis=0)\n",
        "        r_batch_va = tf.concat([fake_batch_va,downnsample_real_batch_va],axis=0)\n",
        "        r_batch_p = tf.concat([fake_batch_p,downnsample_real_batch_p],axis=0)\n",
        "        r_batch_q = tf.concat([fake_batch_q,downnsample_real_batch_q],axis=0)\n",
        "        #Step1: calculate power withdraw on each bus\n",
        "\n",
        "        PQ_out = tf.convert_to_tensor(tf.dtypes.cast(r_batch_demand, tf.float32)-tf.concat([r_batch_p,\\\n",
        "                                                                      r_batch_q],axis=1),dtype='float32')\n",
        "        \n",
        "        #get voltage on each bus\n",
        "        v_r = tf.math.multiply(r_batch_vm,tf.cos(tf.math.multiply(r_batch_va,\\\n",
        "                                                                    tf.constant(math.pi/180,dtype='float32'))))\n",
        "        v_i = tf.math.multiply(r_batch_vm,tf.sin(tf.math.multiply(r_batch_va,\\\n",
        "                                                                    tf.constant(math.pi/180,dtype='float32'))))\n",
        "        V = tf.reshape(tf.complex(v_r,v_i),[-1,number_of_buses])\n",
        "\n",
        "        #calculate current\n",
        "        Y_bus_tf = tf.convert_to_tensor(Y_bus)\n",
        "        I = tf.matmul(V,Y_bus_tf)\n",
        "\n",
        "        #calculate power injection on each bus\n",
        "        S_in = tf.math.multiply(V,tf.math.conj(I))\n",
        "        P_in = tf.math.real(S_in)\n",
        "        Q_in = tf.math.imag(S_in)\n",
        "        #pdb.set_trace()\n",
        "        #evaluate the balance\n",
        "        PQ_balance = tf.concat([P_in,Q_in],axis=1)+PQ_out\n",
        "        mean_PQ_balance = tf.reshape(tf.reduce_mean(K.abs(PQ_balance),axis=1),[-1,1])\n",
        "        \n",
        "        _,r_output,r2_output = discriminator([tf.reshape(r_batch_demand,[-1,1,118*2]),\\\n",
        "                                            tf.reshape(r_batch_p,[-1,1,118]),\\\n",
        "                                            tf.reshape(r_batch_q,[-1,1,118]),\\\n",
        "                                            tf.reshape(r_batch_vm,[-1,1,118]),\\\n",
        "                                            tf.reshape(r_batch_va,[-1,1,118])])\n",
        "        r_loss = tf.reduce_mean(K.square(mean_PQ_balance-r_output))\n",
        "\n",
        "        v_r = tf.math.multiply(fake_batch_vm,tf.cos(tf.math.multiply(fake_batch_va,\\\n",
        "                                                                 tf.constant(math.pi/180,dtype='float32'))))\n",
        "        v_i = tf.math.multiply(fake_batch_vm,tf.sin(tf.math.multiply(fake_batch_va,\\\n",
        "                                                                    tf.constant(math.pi/180,dtype='float32'))))\n",
        "        fake_v = tf.reshape(tf.complex(v_r,v_i),[-1,number_of_buses])\n",
        "        V_ij_conjugate=tf.math.conj(tf.reshape(fake_v,[-1,118,1])-tf.reshape(fake_v,[-1,1,118]))\n",
        "        V_Vij_conjugate = tf.multiply(tf.reshape(fake_v,[-1,118,1]),V_ij_conjugate)\n",
        "        broad_Ybus = tf.reshape(Y_bus_tf,[1,118,118])\n",
        "        flow = tf.multiply(V_Vij_conjugate,tf.math.conj(broad_Ybus*(-1)))\n",
        "        flow_norm = K.sqrt(K.square(tf.math.real(flow)*100)+K.square(tf.math.imag(flow)*100))\n",
        "        branch_flow_loss = tf.reduce_mean(tf.nn.relu(flow_norm-constraint_matrix))\n",
        "        r2_loss = tf.reduce_mean(K.square(branch_flow_loss-r2_output))\n",
        "        #pdb.set_trace()\n",
        "        d_grads = tape.gradient(d_loss+xi*(r_loss+r2_loss),discriminator.trainable_weights)\n",
        "        d_optimizer.apply_gradients(zip(d_grads+d_grads, discriminator.trainable_weights))\n",
        "        #r_optimizer.apply_gradients(zip(r_grads, discriminator.trainable_weights))\n",
        "        regression_list.append(r_loss)\n",
        "        r2_loss_list.append(r2_loss)\n",
        "    '''\n",
        "      Block 1 ends.\n",
        "    '''\n",
        "    \n",
        "    '''\n",
        "      Block 2 starts: Training the generator\n",
        "    '''\n",
        "    #Train Generator \n",
        "    full_real_batch_demand,_,_,_,_,_ = generate_real_samples(batch_size)\n",
        "    [fake_latent_code, fake_latent_noise, _] = \\\n",
        "                  generate_latent_points(latent_dim, batch_size)\n",
        "    tf_fake_batch_demand = tf.keras.backend.variable(full_real_batch_demand)\n",
        "    tape.watch(tf_fake_batch_demand)\n",
        "    [fake_batch_p,fake_batch_q,fake_batch_vm,fake_batch_va] = \\\n",
        "                        generator([tf.reshape(fake_latent_code,[-1,1,1]),\\\n",
        "                        tf.reshape(fake_latent_noise,[-1,1,latent_dim]),\\\n",
        "                        tf.reshape(tf_fake_batch_demand,[-1,1,number_of_buses*2])])\n",
        "    fake_gan_output,_,_ = discriminator([tf.reshape(tf_fake_batch_demand,[-1,1,number_of_buses*2]),\\\n",
        "                                            tf.reshape(fake_batch_p,[-1,1,number_of_buses]),\\\n",
        "                                            tf.reshape(fake_batch_q,[-1,1,number_of_buses]),\\\n",
        "                                            tf.reshape(fake_batch_vm,[-1,1,number_of_buses]),\\\n",
        "                                            tf.reshape(fake_batch_va,[-1,1,number_of_buses])])\n",
        "    fake_batch_y = -np.ones((batch_size, 1))\n",
        "    gan_loss = K.mean(fake_gan_output*fake_batch_y)\n",
        "    dy_dx = tf.reduce_mean(tf.square(tape.gradient([fake_batch_p,fake_batch_q,\\\n",
        "                                                    fake_batch_vm,fake_batch_va],\\\n",
        "                                                    tf_fake_batch_demand)))\n",
        "    \n",
        "    #-----------physics\n",
        "    #Step1: calculate power withdraw on each bus\n",
        "    PQ_out = tf.convert_to_tensor(tf_fake_batch_demand-tf.concat([fake_batch_p,\\\n",
        "                                                                  fake_batch_q],axis=1),dtype='float32')\n",
        "    \n",
        "    #get voltage on each bus\n",
        "    v_r = tf.math.multiply(fake_batch_vm,tf.cos(tf.math.multiply(fake_batch_va,\\\n",
        "                                                                 tf.constant(math.pi/180,dtype='float32'))))\n",
        "    v_i = tf.math.multiply(fake_batch_vm,tf.sin(tf.math.multiply(fake_batch_va,\\\n",
        "                                                                 tf.constant(math.pi/180,dtype='float32'))))\n",
        "    V = tf.reshape(tf.complex(v_r,v_i),[-1,number_of_buses])\n",
        "\n",
        "    #calculate current\n",
        "    Y_bus_tf = tf.convert_to_tensor(Y_bus)\n",
        "    I = tf.matmul(V,Y_bus_tf)\n",
        "    #calculate power injection on each bus\n",
        "    S_in = tf.math.multiply(V,tf.math.conj(I))\n",
        "    P_in = tf.math.real(S_in)\n",
        "    Q_in = tf.math.imag(S_in)\n",
        "    #pdb.set_trace()\n",
        "    #evaluate the balance\n",
        "    PQ_balance = tf.concat([P_in,Q_in],axis=1)+PQ_out\n",
        "    mean_PQ_balance = tf.reduce_mean(K.square(PQ_balance))\n",
        "    physics_loss_list.append(mean_PQ_balance)\n",
        "\n",
        "    #calculate current\n",
        "    #pdb.set_trace()\n",
        "    V_ij_conjugate=tf.math.conj(tf.reshape(V,[-1,118,1])-tf.reshape(V,[-1,1,118]))\n",
        "    V_Vij_conjugate = tf.multiply(tf.reshape(V,[-1,118,1]),V_ij_conjugate)\n",
        "    broad_Ybus = tf.reshape(Y_bus_tf,[1,118,118])\n",
        "    flow = tf.multiply(V_Vij_conjugate,tf.math.conj(broad_Ybus*(-1)))\n",
        "    flow_norm = K.sqrt(K.square(tf.math.real(flow)*100)+K.square(tf.math.imag(flow)*100))\n",
        "    branch_flow_loss = tf.reduce_mean(tf.nn.relu(flow_norm-constraint_matrix))\n",
        "    #p_balance = tf.reduce_mean(P_in+P_out,axis=0)\n",
        "    #q_balance = tf.reduce_mean(Q_in+Q_out,axis=0)\n",
        "    #-----------\n",
        "    print('branch_loss: '+str(branch_flow_loss))\n",
        "    branch_loss_list.append(branch_flow_loss)\n",
        "    \n",
        "    loss_g_list.append(gan_loss.numpy())\n",
        "    dy_dx_list.append(dy_dx.numpy())\n",
        "    discriminator.trainable=False\n",
        "    gan_grads = tape.gradient(gan_loss+lbd*dy_dx+mu*(mean_PQ_balance+branch_flow_loss),gan_model.trainable_weights)\n",
        "    g_optimizer.apply_gradients(zip(gan_grads, gan_model.trainable_weights))\n",
        "  \n",
        "    #Training the Q Inference Network\n",
        "    for _k in range(n_q):\n",
        "      q_output = qnetwork(tf.reshape(fake_batch_p,[-1,1,118]))\n",
        "      q_loss = nu*K.mean(K.square(fake_latent_code-q_output))\n",
        "      ae_loss_list.append(q_loss.numpy())\n",
        "      ae_grads = tape.gradient(q_loss, ae_model.trainable_weights)\n",
        "      q_optimizer.apply_gradients(zip(ae_grads, ae_model.trainable_weights))\n",
        "    '''\n",
        "      Block 2 ends.\n",
        "    '''\n",
        "\n",
        "    print('This is the iter '+str(i)+', the d1 loss is: '+str(d1_loss.numpy())+\\\n",
        "          ', the d2 loss is: '+str(d2_loss.numpy())+\\\n",
        "          ', the g loss is: '+str(gan_loss.numpy())+\\\n",
        "          ', the ae loss is: '+str(q_loss.numpy())+\\\n",
        "          ', the pq loss is: '+str(mean_PQ_balance.numpy())+\\\n",
        "          ', the jacobian loss is:'+str(dy_dx.numpy())+\\\n",
        "          ', the r loss is:'+str(r_loss.numpy())+\\\n",
        "          ', the r2 loss is'+str(r2_loss.numpy()))\n",
        "  if i%100==0:\n",
        "    generated_size = 1001\n",
        "    c_input, z_input, opf_real_conditions_validation = generate_latent_points(latent_dim, generated_size)\n",
        "    [fake_p,fake_q,fake_vm,fake_va] = generator.predict([c_input.reshape([-1,1,1]), z_input.reshape([-1,1,latent_dim]),\\\n",
        "                                                         opf_real_conditions.reshape([-1,1,118*2])])\n",
        "    # create class labels\n",
        "    y_fake = np.ones((generated_size, 1))\n",
        "    pb,qb=feasibility_checking(opf_real_conditions[0:6000,0:118],opf_real_conditions[0:6000,118:], fake_p,fake_q,fake_vm,fake_va)\n",
        "    pbalance_list.append(K.mean(abs(pb)).numpy())\n",
        "    qbalance_list.append(K.mean(abs(qb)).numpy())\n",
        "    print(K.mean(abs(pb)).numpy())\n",
        "    print(K.mean(abs(qb)).numpy())"
      ]
    },
    {
      "cell_type": "code",
      "execution_count": null,
      "metadata": {
        "id": "p8zF8ljWUo8T"
      },
      "outputs": [],
      "source": [
        "generator.save('g.h5')\n",
        "discriminator.save('dd.h5')\n",
        "qnetwork.save('q.h5')"
      ]
    },
    {
      "cell_type": "code",
      "execution_count": null,
      "metadata": {
        "colab": {
          "base_uri": "https://localhost:8080/",
          "height": 279
        },
        "id": "VutXWtGMeGej",
        "outputId": "814b9785-bf87-47a6-9d41-7a34e259ed87"
      },
      "outputs": [
        {
          "output_type": "display_data",
          "data": {
            "text/plain": [
              "<Figure size 432x288 with 1 Axes>"
            ],
            "image/png": "[encoded data removed]"
          },
          "metadata": {
            "needs_background": "light"
          }
        }
      ],
      "source": [
        "plt.plot(gp_list[:])\n",
        "plt.xlabel('Iterations')\n",
        "plt.ylabel('Gradient Penalty of Model D')\n",
        "plt.show()"
      ]
    },
    {
      "cell_type": "code",
      "execution_count": null,
      "metadata": {
        "colab": {
          "base_uri": "https://localhost:8080/",
          "height": 279
        },
        "id": "3wDASHM9KpZ5",
        "outputId": "fc636a4d-a562-48df-b7dc-97a10350683a"
      },
      "outputs": [
        {
          "output_type": "display_data",
          "data": {
            "text/plain": [
              "<Figure size 432x288 with 1 Axes>"
            ],
            "image/png": "[encoded data removed]"
          },
          "metadata": {
            "needs_background": "light"
          }
        }
      ],
      "source": [
        "plt.plot(ae_loss_list[:])\n",
        "plt.xlabel('Iterations')\n",
        "plt.ylabel('Loss of Model Q')\n",
        "plt.show()"
      ]
    },
    {
      "cell_type": "code",
      "execution_count": null,
      "metadata": {
        "colab": {
          "base_uri": "https://localhost:8080/",
          "height": 279
        },
        "id": "gkGuskumeaWo",
        "outputId": "d5d50721-ba5f-42ed-fce9-183bedf5b56c"
      },
      "outputs": [
        {
          "output_type": "display_data",
          "data": {
            "text/plain": [
              "<Figure size 432x288 with 1 Axes>"
            ],
            "image/png": "[encoded data removed]"
          },
          "metadata": {
            "needs_background": "light"
          }
        }
      ],
      "source": [
        "plt.plot(loss_g_list[:])\n",
        "plt.xlabel('Iterations')\n",
        "plt.ylabel('Loss of Model G')\n",
        "plt.show()"
      ]
    },
    {
      "cell_type": "code",
      "execution_count": null,
      "metadata": {
        "colab": {
          "base_uri": "https://localhost:8080/",
          "height": 279
        },
        "id": "agMVoac5egg9",
        "outputId": "ee1760b3-0d50-4853-dcb2-2d1260e27306"
      },
      "outputs": [
        {
          "output_type": "display_data",
          "data": {
            "text/plain": [
              "<Figure size 432x288 with 1 Axes>"
            ],
            "image/png": "[encoded data removed]"
          },
          "metadata": {
            "needs_background": "light"
          }
        }
      ],
      "source": [
        "plt.plot(dy_dx_list[:])\n",
        "plt.xlabel('Iterations')\n",
        "plt.ylabel('Norm of the Jacobian')\n",
        "plt.show()"
      ]
    },
    {
      "cell_type": "code",
      "execution_count": null,
      "metadata": {
        "colab": {
          "base_uri": "https://localhost:8080/",
          "height": 279
        },
        "id": "jZSdBkkVLMwf",
        "outputId": "dee85bea-2d73-432b-9cc9-361435c7751f"
      },
      "outputs": [
        {
          "output_type": "display_data",
          "data": {
            "text/plain": [
              "<Figure size 432x288 with 1 Axes>"
            ],
            "image/png": "[encoded data removed]"
          },
          "metadata": {
            "needs_background": "light"
          }
        }
      ],
      "source": [
        "plt.plot(regression_list)\n",
        "plt.xlabel('Iterations')\n",
        "plt.ylabel('Regression Loss')\n",
        "plt.show()"
      ]
    },
    {
      "cell_type": "code",
      "source": [
        "plt.plot(r2_loss_list)\n",
        "plt.xlabel('Iterations')\n",
        "plt.ylabel('Regression Loss')\n",
        "plt.show()"
      ],
      "metadata": {
        "colab": {
          "base_uri": "https://localhost:8080/",
          "height": 279
        },
        "id": "kAUA5X00UuKg",
        "outputId": "1e8759c5-2122-4424-80d0-10e9cd8dc6e7"
      },
      "execution_count": null,
      "outputs": [
        {
          "output_type": "display_data",
          "data": {
            "text/plain": [
              "<Figure size 432x288 with 1 Axes>"
            ],
            "image/png": "[encoded data removed]"
          },
          "metadata": {
            "needs_background": "light"
          }
        }
      ]
    },
    {
      "cell_type": "code",
      "execution_count": null,
      "metadata": {
        "colab": {
          "base_uri": "https://localhost:8080/",
          "height": 279
        },
        "id": "Fihxsh1Thihb",
        "outputId": "2c320580-21d8-452a-dff6-0956feec14a7"
      },
      "outputs": [
        {
          "output_type": "display_data",
          "data": {
            "text/plain": [
              "<Figure size 432x288 with 1 Axes>"
            ],
            "image/png": "[encoded data removed]"
          },
          "metadata": {
            "needs_background": "light"
          }
        }
      ],
      "source": [
        "#plt.plot(loss_g_list)\n",
        "lst = np.array(loss_d1_list)\n",
        "plt.plot(list(-lst))\n",
        "plt.plot(loss_d2_list)\n",
        "plt.legend(['D_loss_on_real_data','D_loss_on_fake_data'])\n",
        "plt.xlabel('Iterations')\n",
        "plt.ylabel('Loss Value')\n",
        "plt.show()"
      ]
    },
    {
      "cell_type": "code",
      "source": [
        "#plt.plot(loss_g_list)\n",
        "lst = np.array(loss_d1_list)\n",
        "plt.plot(branch_loss_list)\n",
        "#plt.plot(loss_d2_list)\n",
        "#plt.legend(['D_loss_on_real_data','D_loss_on_fake_data'])\n",
        "plt.xlabel('Iterations')\n",
        "plt.ylabel('Branch Flow Violation Loss')\n",
        "plt.show()"
      ],
      "metadata": {
        "colab": {
          "base_uri": "https://localhost:8080/",
          "height": 279
        },
        "id": "pQsdPchisXbz",
        "outputId": "4ac6e1d9-87d2-40c9-854c-6c9a218cefc3"
      },
      "execution_count": null,
      "outputs": [
        {
          "output_type": "display_data",
          "data": {
            "text/plain": [
              "<Figure size 432x288 with 1 Axes>"
            ],
            "image/png": "[encoded data removed]"
          },
          "metadata": {
            "needs_background": "light"
          }
        }
      ]
    },
    {
      "cell_type": "code",
      "execution_count": null,
      "metadata": {
        "colab": {
          "base_uri": "https://localhost:8080/"
        },
        "id": "IMUWpJnvrOPe",
        "outputId": "da64d7fe-e40f-4342-ec20-8a81b6fedc73"
      },
      "outputs": [
        {
          "data": {
            "text/plain": [
              "<tf.Tensor: shape=(), dtype=float32, numpy=0.42354885>"
            ]
          },
          "execution_count": 15,
          "metadata": {},
          "output_type": "execute_result"
        }
      ],
      "source": [
        "K.mean(qb)"
      ]
    },
    {
      "cell_type": "code",
      "execution_count": null,
      "metadata": {
        "colab": {
          "base_uri": "https://localhost:8080/"
        },
        "id": "lGCiTvLxsg8P",
        "outputId": "eefa44bd-f46c-47ff-87fa-6940b63609c7"
      },
      "outputs": [
        {
          "data": {
            "text/plain": [
              "<tf.Tensor: shape=(), dtype=float32, numpy=0.025738597>"
            ]
          },
          "execution_count": 97,
          "metadata": {},
          "output_type": "execute_result"
        }
      ],
      "source": [
        "K.mean(pb)"
      ]
    },
    {
      "cell_type": "code",
      "execution_count": null,
      "metadata": {
        "id": "SD5uNXfpTuB2"
      },
      "outputs": [],
      "source": [
        "pp_list=[]\n",
        "for p in pbalance_list:\n",
        "  blc=K.mean(p)\n",
        "  pp_list.append(blc)\n",
        "qq_list=[]\n",
        "for q in qbalance_list:\n",
        "  blc=K.mean(q)\n",
        "  qq_list.append(blc)"
      ]
    },
    {
      "cell_type": "code",
      "execution_count": null,
      "metadata": {
        "colab": {
          "base_uri": "https://localhost:8080/",
          "height": 279
        },
        "id": "_XbP4-oZTew4",
        "outputId": "292c3005-7c3a-43b2-d01c-4b5a942db0e4"
      },
      "outputs": [
        {
          "output_type": "display_data",
          "data": {
            "text/plain": [
              "<Figure size 432x288 with 1 Axes>"
            ],
            "image/png": "[encoded data removed]"
          },
          "metadata": {
            "needs_background": "light"
          }
        }
      ],
      "source": [
        "plt.plot(pbalance_list[:])\n",
        "plt.plot(qbalance_list[:])\n",
        "plt.legend(['Active_balance','Reactive_balance'])\n",
        "plt.xlabel('Iterations')\n",
        "plt.ylabel('Loss value')\n",
        "plt.show()"
      ]
    }
  ],
  "metadata": {
    "accelerator": "GPU",
    "colab": {
      "collapsed_sections": [],
      "name": "InfoCCGAN_OPF_grid118.ipynb",
      "provenance": []
    },
    "kernelspec": {
      "display_name": "Python 3",
      "name": "python3"
    },
    "language_info": {
      "name": "python"
    }
  },
  "nbformat": 4,
  "nbformat_minor": 0
}